{
 "cells": [
  {
   "cell_type": "code",
   "execution_count": 4,
   "metadata": {},
   "outputs": [
    {
     "name": "stdout",
     "output_type": "stream",
     "text": [
      "[51937 75113 78802 61623 51727 39537 43908 53604 55205 64967  3872]\n"
     ]
    },
    {
     "data": {
      "text/plain": [
       "<matplotlib.collections.PathCollection at 0x1192a5438>"
      ]
     },
     "execution_count": 4,
     "metadata": {},
     "output_type": "execute_result"
    },
    {
     "data": {
      "image/png": "[encoded data removed]",
      "text/plain": [
       "<Figure size 432x288 with 1 Axes>"
      ]
     },
     "metadata": {
      "needs_background": "light"
     },
     "output_type": "display_data"
    }
   ],
   "source": [
    "import numpy as np\n",
    "import matplotlib.pyplot as plt\n",
    "\n",
    "filename = './befkbhalderstatkode.csv'\n",
    "people = np.genfromtxt(filename, delimiter=',', dtype=np.uint, skip_header=1)\n",
    "\n",
    "\n",
    "neighb = {1: 'Indre By', 2: 'Østerbro', 3: 'Nørrebro', 4: 'Vesterbro/Kgs. Enghave', \n",
    "       5: 'Valby', 6: 'Vanløse', 7: 'Brønshøj-Husum', 8: 'Bispebjerg', 9: 'Amager Øst', \n",
    "       10: 'Amager Vest', 99: 'Udenfor'}\n",
    "\n",
    "def number_of_people_per_neighbourhood(n, mask):\n",
    "    all_people_in_given_n = people[mask & (people[:,1] == n)]\n",
    "    sum_of_people = all_people_in_given_n[:,4].sum() # index 4 is no of 'PERSONER'\n",
    "    return sum_of_people\n",
    "\n",
    "mask = (people[:,0] == 2015)\n",
    "peps = np.array([number_of_people_per_neighbourhood(n, mask) for n in neighb.keys()])\n",
    "print(peps)\n",
    "peps.sort()\n",
    "plt.scatter(neighb.keys(), peps)\n",
    "\n"
   ]
  },
  {
   "cell_type": "code",
   "execution_count": 17,
   "metadata": {},
   "outputs": [
    {
     "name": "stdout",
     "output_type": "stream",
     "text": [
      "[False False False ... False False False]\n",
      "4093\n"
     ]
    }
   ],
   "source": [
    "\n",
    "mask_over_65 = (people[:,2] == 65) & (people[:,0] == 2015)\n",
    "print(mask_over_65)\n",
    "mask_not_nordic = (people[:,3] != 5130) & (people[:,2] == 65) & (people[:,0] == 2015)\n",
    "over_65_not_nordic = people[mask_not_nordic]\n",
    "print(over_65_not_nordic[:,4].sum())"
   ]
  },
  {
   "cell_type": "code",
   "execution_count": 111,
   "metadata": {},
   "outputs": [
    {
     "name": "stdout",
     "output_type": "stream",
     "text": [
      "[62221 62583 63050 63572 64503 65856 66148 66295 66673 66877 67020 67550\n",
      " 67516 67671 67351 67330 67964 68769 69951 70938 72400 73388 74521 75113]\n",
      "[47854 47589 47538 47633 47734 48275 49109 49520 50312 50756 51039 51045\n",
      " 50869 50643 50303 50964 51466 53351 55315 57150 58411 59211 60328 61623]\n"
     ]
    },
    {
     "data": {
      "text/plain": [
       "<matplotlib.collections.PathCollection at 0x1112f7c50>"
      ]
     },
     "execution_count": 111,
     "metadata": {},
     "output_type": "execute_result"
    },
    {
     "data": {
      "image/png": "[encoded data removed]",
      "text/plain": [
       "<Figure size 432x288 with 1 Axes>"
      ]
     },
     "metadata": {
      "needs_background": "light"
     },
     "output_type": "display_data"
    }
   ],
   "source": [
    "#Make a line plot showing the changes of number of people in vesterbro and østerbro from 1992 to 2015\n",
    "\n",
    "def number_of_people_per_year_in(n, mask):\n",
    "    all_people_in_given_n = people[mask & (people[:,0] == n)]\n",
    "    sum_of_people = all_people_in_given_n[:,4].sum() # index 4 is no of 'PERSONER'\n",
    "    return sum_of_people\n",
    "\n",
    "years = np.array(range(1992, 2016))\n",
    "mask_østerbro = (people[:,1] == 2)\n",
    "mask_vesterbro = (people[:,1] == 4)\n",
    "østerbro_people = np.array([number_of_people_per_year_in(year, mask_østerbro) for year in years])\n",
    "vesterbro = np.array([number_of_people_per_year_in(n, mask_vesterbro) for n in years])\n",
    "\n",
    "print(østerbro_people)\n",
    "print(vesterbro)\n",
    "\n",
    "\n",
    "plt.scatter(years, østerbro_people)\n",
    "plt.scatter(years, vesterbro)"
   ]
  },
  {
   "cell_type": "code",
   "execution_count": null,
   "metadata": {},
   "outputs": [],
   "source": []
  },
  {
   "cell_type": "code",
   "execution_count": null,
   "metadata": {},
   "outputs": [],
   "source": []
  },
  {
   "cell_type": "code",
   "execution_count": null,
   "metadata": {},
   "outputs": [],
   "source": []
  }
 ],
 "metadata": {
  "kernelspec": {
   "display_name": "Python 3",
   "language": "python",
   "name": "python3"
  },
  "language_info": {
   "codemirror_mode": {
    "name": "ipython",
    "version": 3
   },
   "file_extension": ".py",
   "mimetype": "text/x-python",
   "name": "python",
   "nbconvert_exporter": "python",
   "pygments_lexer": "ipython3",
   "version": "3.7.2"
  }
 },
 "nbformat": 4,
 "nbformat_minor": 4
}
