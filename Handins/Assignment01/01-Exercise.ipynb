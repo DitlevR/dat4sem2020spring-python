{
 "cells": [
  {
   "cell_type": "markdown",
   "metadata": {},
   "source": [
    "## Exercise"
   ]
  },
  {
   "cell_type": "markdown",
   "metadata": {},
   "source": [
    "1. Create 5 list comprehensions to solve the following 5 problems:\n",
    "  1. Iterate a list of names to return a list of the names starting with H\n",
    "  2. In one line create a list of the numbers 1-100 to the power of 3\n",
    "  3. Iterate a list of names to create a list of tuples where the tuples first value is the length of the name and the second is the name\n",
    "  4. Iterate over each character in a string and get only those that are nummeric\n",
    "  5. Using only a list comprehension wrapped in set() get all possible combination from throwing 2 dice\n",
    "\n",
    "2. Create 2 dictionary comprehensions to solve the following:\n",
    "  1. Iterate a list of names and create a dictionary where key is the name and value is the length of the name\n",
    "  2. Iterate a list of numbers and create a dictionary with (key, value) being (number, squareroot of number)\n",
    "\n",
    "3. Progammatically using loops create a small program to produce a dictionary with all the 2 dice throw combinations as keys and their likelyhood in percent as values"
   ]
  },
  {
   "cell_type": "code",
   "execution_count": 4,
   "metadata": {},
   "outputs": [
    {
     "name": "stdout",
     "output_type": "stream",
     "text": [
      "['Hans']\n"
     ]
    }
   ],
   "source": [
    "my_list = ['Hans', 'Ole', 'Børge', 'Jens', 'Mogens'];\n",
    "letter = 'H';\n",
    "res = [idx for idx in my_list if idx[0].lower() == letter.lower()];\n",
    "print(str(res));"
   ]
  },
  {
   "cell_type": "code",
   "execution_count": 25,
   "metadata": {},
   "outputs": [
    {
     "name": "stdout",
     "output_type": "stream",
     "text": [
      "[1, 8, 27, 64, 125, 216, 343, 512, 729, 1000, 1331, 1728, 2197, 2744, 3375, 4096, 4913, 5832, 6859, 8000, 9261, 10648, 12167, 13824, 15625, 17576, 19683, 21952, 24389, 27000, 29791, 32768, 35937, 39304, 42875, 46656, 50653, 54872, 59319, 64000, 68921, 74088, 79507, 85184, 91125, 97336, 103823, 110592, 117649, 125000, 132651, 140608, 148877, 157464, 166375, 175616, 185193, 195112, 205379, 216000, 226981, 238328, 250047, 262144, 274625, 287496, 300763, 314432, 328509, 343000, 357911, 373248, 389017, 405224, 421875, 438976, 456533, 474552, 493039, 512000, 531441, 551368, 571787, 592704, 614125, 636056, 658503, 681472, 704969, 729000, 753571, 778688, 804357, 830584, 857375, 884736, 912673, 941192, 970299, 1000000]\n"
     ]
    }
   ],
   "source": [
    "numbers = [i ** 3 for i in range(1, 101)]\n",
    "print(numbers)"
   ]
  },
  {
   "cell_type": "code",
   "execution_count": 60,
   "metadata": {},
   "outputs": [
    {
     "name": "stdout",
     "output_type": "stream",
     "text": [
      "[(4, 'Hans'), (4, 'Ole'), (4, 'B\\xc3\\xb8rge'), (4, 'Jens'), (4, 'Mogens')]\n"
     ]
    }
   ],
   "source": [
    "my_list = ['Hans', 'Ole', 'Børge', 'Jens', 'Mogens'];\n",
    "res = [];\n",
    "for l in my_list:\n",
    "    res.append((len(my_list[0]), l));\n",
    "    \n",
    "print(res);\n"
   ]
  },
  {
   "cell_type": "code",
   "execution_count": 74,
   "metadata": {},
   "outputs": [
    {
     "name": "stdout",
     "output_type": "stream",
     "text": [
      "3\n",
      "1\n",
      "1\n",
      "0\n",
      "2\n",
      "3\n",
      "4\n",
      "4\n",
      "4\n",
      "4\n",
      "1\n",
      "1\n",
      "2\n"
     ]
    }
   ],
   "source": [
    "str = \"h3110 23 cat 444.4 rabbit 11 2 dog\"\n",
    "for i in str:\n",
    "    if i.isdigit():\n",
    "        print i;"
   ]
  },
  {
   "cell_type": "code",
   "execution_count": 80,
   "metadata": {},
   "outputs": [
    {
     "name": "stdout",
     "output_type": "stream",
     "text": [
      "set([(1, 3), (5, 4), (2, 1), (5, 1), (2, 5), (1, 2), (3, 3), (4, 4), (1, 5), (2, 2), (5, 3), (4, 1), (1, 1), (3, 2), (4, 5), (5, 5), (1, 4), (2, 3), (4, 2), (3, 5), (3, 4), (3, 1), (4, 3), (5, 2), (2, 4)])\n"
     ]
    }
   ],
   "source": [
    "dices = set((x,y) for x in range(1,6) for y in range(1,6))\n",
    "print(dices);"
   ]
  },
  {
   "cell_type": "code",
   "execution_count": 108,
   "metadata": {},
   "outputs": [
    {
     "name": "stdout",
     "output_type": "stream",
     "text": [
      "[('Hans', 4), ('Ole', 3), ('B\\xc3\\xb8rge', 6), ('Jens', 4), ('Mogens', 6)]\n",
      "[(9, 3.0), (121, 11.0), (256, 16.0)]\n"
     ]
    }
   ],
   "source": [
    "import math\n",
    "my_list = ['Hans', 'Ole', 'Børge', 'Jens', 'Mogens'];\n",
    "res = [];\n",
    "for name in my_list:\n",
    "    res.append((name, len(name)));\n",
    "print(res);\n",
    "\n",
    "my_numbers = [(9,math.sqrt(9)), (121, math.sqrt(121)), (256, math.sqrt(256))]\n",
    "print(my_numbers);"
   ]
  },
  {
   "cell_type": "code",
   "execution_count": 18,
   "metadata": {},
   "outputs": [
    {
     "name": "stdout",
     "output_type": "stream",
     "text": [
      "[((1, 3), 25.0), ((5, 4), 44.44444444444444), ((2, 1), 2.7777777777777777), ((5, 1), 2.7777777777777777), ((2, 5), 69.44444444444446), ((1, 2), 11.11111111111111), ((3, 3), 25.0), ((4, 4), 44.44444444444444), ((1, 5), 69.44444444444446), ((2, 2), 11.11111111111111), ((5, 3), 25.0), ((4, 1), 2.7777777777777777), ((1, 1), 2.7777777777777777), ((3, 2), 11.11111111111111), ((4, 5), 69.44444444444446), ((5, 5), 69.44444444444446), ((1, 4), 44.44444444444444), ((2, 3), 25.0), ((4, 2), 11.11111111111111), ((3, 5), 69.44444444444446), ((3, 4), 44.44444444444444), ((3, 1), 2.7777777777777777), ((4, 3), 25.0), ((5, 2), 11.11111111111111), ((2, 4), 44.44444444444444)]\n"
     ]
    }
   ],
   "source": [
    "dices = set((x,y) for x in range(1,6) for y in range(1,6))\n",
    "res = [];\n",
    "for dice in dices:\n",
    "    res.append((dice, (float(dice[1])/6)*(float(dice[1])/6)*100));\n",
    "print(res);"
   ]
  },
  {
   "cell_type": "code",
   "execution_count": null,
   "metadata": {},
   "outputs": [],
   "source": []
  },
  {
   "cell_type": "code",
   "execution_count": null,
   "metadata": {},
   "outputs": [],
   "source": []
  }
 ],
 "metadata": {
  "kernelspec": {
   "display_name": "Python 2",
   "language": "python",
   "name": "python2"
  },
  "language_info": {
   "codemirror_mode": {
    "name": "ipython",
    "version": 3
   },
   "file_extension": ".py",
   "mimetype": "text/x-python",
   "name": "python",
   "nbconvert_exporter": "python",
   "pygments_lexer": "ipython3",
   "version": "3.7.2"
  }
 },
 "nbformat": 4,
 "nbformat_minor": 2
}
