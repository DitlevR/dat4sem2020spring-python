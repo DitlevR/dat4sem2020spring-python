{
 "cells": [
  {
   "cell_type": "code",
   "execution_count": 11,
   "metadata": {},
   "outputs": [
    {
     "name": "stdout",
     "output_type": "stream",
     "text": [
      "http://www.gutenberg.org/files/1661/1661-0.txt\n",
      "http://www.gutenberg.org/files/2852/2852-0.txt\n",
      "http://www.gutenberg.org/files/244/244-0.txt\n",
      "http://www.gutenberg.org/files/2097/2097-0.txt\n",
      "http://www.gutenberg.org/files/834/834-0.txt\n",
      "http://www.gutenberg.org/files/108/108-0.txt\n",
      "http://www.gutenberg.org/files/3289/3289-0.txt\n",
      "http://www.gutenberg.org/files/2350/2350-0.txt\n",
      "http://www.gutenberg.org/files/221/221-0.txt\n",
      "http://www.gutenberg.org/ebooks/2347.txt.utf-8\n",
      "http://www.gutenberg.org/ebooks/2346.txt.utf-8\n",
      "http://www.gutenberg.org/ebooks/2344.txt.utf-8\n",
      "http://www.gutenberg.org/ebooks/2343.txt.utf-8\n"
     ]
    }
   ],
   "source": [
    "import bs4\n",
    "import requests\n",
    "import wget\n",
    "\n",
    "#Brug listen af urler til at hente nogle af de populæreste Sherlock Holmes bøger\n",
    "sherlock_urls = ['http://www.gutenberg.org/files/1661/1661-0.txt','http://www.gutenberg.org/files/2852/2852-0.txt','http://www.gutenberg.org/files/244/244-0.txt','http://www.gutenberg.org/files/2097/2097-0.txt','http://www.gutenberg.org/files/834/834-0.txt','http://www.gutenberg.org/files/108/108-0.txt','http://www.gutenberg.org/files/3289/3289-0.txt','http://www.gutenberg.org/files/2350/2350-0.txt','http://www.gutenberg.org/files/221/221-0.txt','http://www.gutenberg.org/ebooks/2347.txt.utf-8','http://www.gutenberg.org/ebooks/2346.txt.utf-8','http://www.gutenberg.org/ebooks/2344.txt.utf-8','http://www.gutenberg.org/ebooks/2343.txt.utf-8']\n",
    "\n",
    "\n",
    "for n in range(0,len(sherlock_urls)):\n",
    "    new_url = str(sherlock_urls[n])\n",
    "    print (new_url)\n",
    "    try:\n",
    "        wget.download(new_url, f'todelete{n}.txt')\n",
    "    except:\n",
    "            print('Exception occured')"
   ]
  },
  {
   "cell_type": "code",
   "execution_count": null,
   "metadata": {},
   "outputs": [],
   "source": []
  },
  {
   "cell_type": "code",
   "execution_count": null,
   "metadata": {},
   "outputs": [],
   "source": []
  }
 ],
 "metadata": {
  "kernelspec": {
   "display_name": "Python 3",
   "language": "python",
   "name": "python3"
  },
  "language_info": {
   "codemirror_mode": {
    "name": "ipython",
    "version": 3
   },
   "file_extension": ".py",
   "mimetype": "text/x-python",
   "name": "python",
   "nbconvert_exporter": "python",
   "pygments_lexer": "ipython3",
   "version": "3.7.2"
  }
 },
 "nbformat": 4,
 "nbformat_minor": 4
}
