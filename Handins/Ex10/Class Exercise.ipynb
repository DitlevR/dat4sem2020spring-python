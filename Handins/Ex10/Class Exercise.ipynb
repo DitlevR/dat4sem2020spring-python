{
 "cells": [
  {
   "cell_type": "code",
   "execution_count": 47,
   "metadata": {},
   "outputs": [
    {
     "name": "stdout",
     "output_type": "stream",
     "text": [
      "(2, 4)\n",
      "(4, 4)\n",
      "        Paula   Peter  Pandora  Pietro\n",
      "Netto  127.00  166.25   244.75  102.50\n",
      "Fakta   83.75  110.50   158.50  116.25\n"
     ]
    }
   ],
   "source": [
    "import pandas as pd\n",
    "import numpy as np\n",
    "#Class exercise\n",
    "#Given the below dictionarys find out where each of the 4 people find the cheapest shopping according to their needs.\n",
    "\n",
    "shoppers = {\n",
    "'Paula':{'Is':4,'Juice':2,'Kakao':3,'Lagkager':2},\n",
    "'Peter':{'Is':2,'Juice':5,'Kakao':0, 'Lagkager':4},\n",
    "'Pandora':{'Is':5,'Juice':3, 'Kakao':4, 'Lagkager':5},\n",
    "'Pietro':{'Is':1,'Juice':8, 'Kakao':9, 'Lagkager':1}\n",
    "}\n",
    "shop_prices = {\n",
    "    'Netto': {'Is':10.50,'Juice':2.25,'Kakao':4.50,'Lagkager':33.50},\n",
    "    'Fakta': {'Is':4.00,'Juice':4.50,'Kakao':6.25,'Lagkager':20.00}\n",
    "}\n",
    "#Hint: you can use pandas and Transpose to create dataframe: pd.DataFrame(shoppers).T\n",
    "\n",
    "P1 = pd.DataFrame(shoppers)\n",
    "Q1 = pd.DataFrame(shop_prices).T\n",
    "print(Q1.shape)\n",
    "print(P1.shape)\n",
    "print(Q1.dot(P1))"
   ]
  },
  {
   "cell_type": "code",
   "execution_count": 69,
   "metadata": {},
   "outputs": [
    {
     "name": "stdout",
     "output_type": "stream",
     "text": [
      "<class 'scipy.sparse.csr.csr_matrix'>\n",
      "wood occurs [[37]] times in the text\n",
      "(1797, 64)\n"
     ]
    },
    {
     "data": {
      "text/plain": [
       "<matplotlib.image.AxesImage at 0x10c632828>"
      ]
     },
     "execution_count": 69,
     "metadata": {},
     "output_type": "execute_result"
    },
    {
     "data": {
      "image/png": "[encoded data removed]",
      "text/plain": [
       "<Figure size 432x288 with 1 Axes>"
      ]
     },
     "metadata": {
      "needs_background": "light"
     },
     "output_type": "display_data"
    }
   ],
   "source": [
    "import sklearn\n",
    "from sklearn.feature_extraction.text import CountVectorizer\n",
    "from sklearn.datasets import load_digits\n",
    "import matplotlib.pyplot as plt\n",
    "#Exercise\n",
    "#Use the CountVectorizer from sklearn.feature_extraction to read the book data/moby_dick.txt\n",
    "#How many times does the word 'wood' appear?\n",
    "#Use the load_digits function from the sklearn.datasets package to load a sklearn dataset\n",
    "#The package contains .data of 8x8 images. Extract the first image in an 8x8 array\n",
    "#Use the plt.imshow function to plot the image\n",
    "\n",
    "book = open('moby_dick.txt')\n",
    "\n",
    "vectorizer = CountVectorizer()\n",
    "\n",
    "fit = vectorizer.fit_transform(book)\n",
    "\n",
    "print(type(fit))\n",
    "res = fit.todense()\n",
    "document_idx = vectorizer.vocabulary_['wood']\n",
    "document_count = sum(res[:,document_idx]) # sum all row cells where column == index\n",
    "print('wood occurs {} times in the text'.format(document_count))\n",
    "#print(vectorizer.get_feature_names())\n",
    "digits = load_digits()\n",
    "print(digits.data.shape)\n",
    "\n",
    "plt.gray() \n",
    "plt.imshow(digits.images[0]) \n"
   ]
  },
  {
   "cell_type": "code",
   "execution_count": 118,
   "metadata": {},
   "outputs": [
    {
     "name": "stdout",
     "output_type": "stream",
     "text": [
      "(6, 1)\n"
     ]
    },
    {
     "data": {
      "text/plain": [
       "array([32.22232152])"
      ]
     },
     "execution_count": 118,
     "metadata": {},
     "output_type": "execute_result"
    },
    {
     "data": {
      "image/png": "[encoded data removed]",
      "text/plain": [
       "<Figure size 432x288 with 1 Axes>"
      ]
     },
     "metadata": {
      "needs_background": "light"
     },
     "output_type": "display_data"
    }
   ],
   "source": [
    "import sklearn.linear_model\n",
    "#Exercise linear regression model\n",
    "#Are there a linear relationship here in this csv data:\n",
    "#save data in a file: car_sales.csv\n",
    "#plot car sales as a function to GDP (is there a linear relationship?)\n",
    "#fit data to a klearn linear regression model\n",
    "#predict sales if GDP hits 9 trillion lakhs\n",
    "#year,GDP(trillion),4wheeler_car_sale\n",
    "\n",
    "data = pd.read_csv(\"car_sales.csv\")\n",
    "data.plot.scatter(x = 2, y = 1)\n",
    "plt.plot([25, 5], [30, 8])\n",
    "xs = data['GDP(trillion)']\n",
    "ys = data['4wheeler_car_sale']\n",
    "xs_reshape = np.array(xs).reshape(-1, 1)\n",
    "print(xs_reshape.shape)\n",
    "model = sklearn.linear_model.LinearRegression()\n",
    "model.fit(xs_reshape, ys)\n",
    "model.coef_\n",
    "model.intercept_\n",
    "\n",
    "predicted = model.predict(xs_reshape)\n",
    "spending10000 = model.predict([[9]])\n",
    "spending10000"
   ]
  },
  {
   "cell_type": "code",
   "execution_count": null,
   "metadata": {},
   "outputs": [],
   "source": []
  },
  {
   "cell_type": "code",
   "execution_count": null,
   "metadata": {},
   "outputs": [],
   "source": []
  },
  {
   "cell_type": "code",
   "execution_count": null,
   "metadata": {},
   "outputs": [],
   "source": []
  }
 ],
 "metadata": {
  "kernelspec": {
   "display_name": "Python 3",
   "language": "python",
   "name": "python3"
  },
  "language_info": {
   "codemirror_mode": {
    "name": "ipython",
    "version": 3
   },
   "file_extension": ".py",
   "mimetype": "text/x-python",
   "name": "python",
   "nbconvert_exporter": "python",
   "pygments_lexer": "ipython3",
   "version": "3.7.2"
  }
 },
 "nbformat": 4,
 "nbformat_minor": 4
}
