{
 "cells": [
  {
   "cell_type": "code",
   "execution_count": 73,
   "metadata": {},
   "outputs": [
    {
     "name": "stdout",
     "output_type": "stream",
     "text": [
      "Number of Breaking Benjamins:20\n"
     ]
    }
   ],
   "source": [
    "#\"Hvor mange produkter kommer frem, når man søger på \"\"breaking benjamin\"\"(se URL'en)\n",
    "import webget\n",
    "import pandas as pd\n",
    "import requests\n",
    "import bs4\n",
    "url = 'https://www.merchbar.com/search?q=breaking%20benjamin'\n",
    "r = requests.get(url)\n",
    "r.raise_for_status()\n",
    "soup = bs4.BeautifulSoup(r.text, 'html.parser')\n",
    "\n",
    "select_breaking_benjamin = soup.find_all(class_= 'MerchTile.module__title')\n",
    "select_breaking_benjamin\n",
    "print('Number of Breaking Benjamins:{}'.format(len(select_breaking_benjamin)))\n",
    "\n"
   ]
  },
  {
   "cell_type": "code",
   "execution_count": 103,
   "metadata": {},
   "outputs": [
    {
     "name": "stdout",
     "output_type": "stream",
     "text": [
      "number of tracks on SATURATED CD is 13\n"
     ]
    }
   ],
   "source": [
    "#\"Hvor mange TRACKs er der i det første produkt, som ligger i kategorien CDs?\"\n",
    "url_cd = 'https://www.merchbar.com/rock-alternative/breaking-benjamin/breaking-benjamin-saturated-cd'\n",
    "r = requests.get(url_cd)\n",
    "r.raise_for_status()\n",
    "soup = bs4.BeautifulSoup(r.text, 'html.parser')\n",
    "\n",
    "find_tracks = soup.select('span ol li', class_='track')\n",
    "find_tracks\n",
    "print('number of tracks on {}'.format(soup.find(class_='merch.module__merchTitle').text), 'is {}'.format(len(find_tracks)))\n"
   ]
  },
  {
   "cell_type": "code",
   "execution_count": 218,
   "metadata": {},
   "outputs": [
    {
     "name": "stdout",
     "output_type": "stream",
     "text": [
      "41.17647058823529\n",
      "58.82352941176471\n"
     ]
    },
    {
     "data": {
      "image/png": "[encoded data removed]",
      "text/plain": [
       "<Figure size 432x288 with 1 Axes>"
      ]
     },
     "metadata": {
      "needs_background": "light"
     },
     "output_type": "display_data"
    }
   ],
   "source": [
    "#\"Vis et bar chart der viser: \n",
    "#- Procentdel af de viste produkter, der rent faktisk \n",
    "#   indeholder Breaking Benjamin merch\n",
    "#- Procentdel af den merch, der er på tilbud\n",
    "#- Procentdel af den merch, der ikke er på lager\"\n",
    "\n",
    "import matplotlib.pyplot as plot\n",
    "import numpy as np\n",
    "url = 'https://www.merchbar.com/search?q=breaking%20benjamin'\n",
    "r = requests.get(url)\n",
    "r.raise_for_status()\n",
    "soup = bs4.BeautifulSoup(r.text, 'html.parser')\n",
    "\n",
    "select_breaking_benjamin = soup.find_all(class_= 'MerchTile.module__title')\n",
    "select_breaking_benjamin\n",
    "\n",
    "nr_breaking_b = 34\n",
    "\n",
    "actual_number = len(select_breaking_benjamin)\n",
    "actual_number_in_percentage = actual_number/nr_breaking_b * 100\n",
    "nr_breaking_b_in_percentage = 100-actual_number_in_percentage\n",
    "print(nr_breaking_b_in_percentage)\n",
    "print(actual_number_in_percentage)\n",
    "ind = np.arange(1)\n",
    "width = 0.35\n",
    "fig = plot.figure()\n",
    "ax = fig.add_axes([0,0,1,1])\n",
    "ax.bar(ind, actual_number_in_percentage, width, color='r')\n",
    "\n",
    "ax.bar(ind, nr_breaking_b_in_percentage, width, color='b', bottom=nr_breaking_b_in_percentage)\n",
    "ax.set_ylabel('Percentage')\n",
    "ax.set_xticks(ind, 'Breaking B')\n",
    "ax.set_yticks(np.arange(0, 101, 10))\n",
    "plt.show()"
   ]
  },
  {
   "cell_type": "code",
   "execution_count": null,
   "metadata": {},
   "outputs": [],
   "source": []
  },
  {
   "cell_type": "code",
   "execution_count": null,
   "metadata": {},
   "outputs": [],
   "source": []
  },
  {
   "cell_type": "code",
   "execution_count": null,
   "metadata": {},
   "outputs": [],
   "source": []
  }
 ],
 "metadata": {
  "kernelspec": {
   "display_name": "Python 3",
   "language": "python",
   "name": "python3"
  },
  "language_info": {
   "codemirror_mode": {
    "name": "ipython",
    "version": 3
   },
   "file_extension": ".py",
   "mimetype": "text/x-python",
   "name": "python",
   "nbconvert_exporter": "python",
   "pygments_lexer": "ipython3",
   "version": "3.7.2"
  }
 },
 "nbformat": 4,
 "nbformat_minor": 4
}
