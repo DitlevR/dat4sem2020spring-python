{
 "cells": [
  {
   "cell_type": "code",
   "execution_count": 5,
   "metadata": {},
   "outputs": [
    {
     "name": "stdout",
     "output_type": "stream",
     "text": [
      "1\n",
      "9\n",
      "1\n",
      "€ADASF\n"
     ]
    }
   ],
   "source": [
    "#1. Create a Python module, which consists of a class TextContainer. The class shall implement methods for \n",
    "#computing statistics on texts.\n",
    "#Counting the amount of words used in a text.\n",
    "#Counting the amount of chars used in a text.\n",
    "#Counting the amount of letters, where letters are all ASCII letter characters, see\n",
    "import string\n",
    "\n",
    "class TextContainer():\n",
    "    \n",
    "    def countWords(text):\n",
    "        i = 0\n",
    "        for word in text:\n",
    "            i =+ 1\n",
    "        return i\n",
    "    \n",
    "    def countChars(text):\n",
    "        charAmount = len(text)\n",
    "        return charAmount\n",
    "    \n",
    "\n",
    "\n",
    "    def countASCII(letters):\n",
    "        i = 0\n",
    "        for char in letters:\n",
    "            if char in string.ascii_letters:\n",
    "                i =+ 1\n",
    "        return i\n",
    "#Remove all punctuation characters, see\n",
    "\n",
    "    def removePunctuation(text):\n",
    "        for c in string.punctuation:\n",
    "            text = text.replace(c,\"\")\n",
    "        return text\n",
    "            \n",
    "            \n",
    "\n",
    "print(TextContainer.countWords(\"HEJ MED DIG\"))\n",
    "print(TextContainer.countChars(\"%€&AD#ASF\"))\n",
    "print(TextContainer.countASCII(\"%€&AD#ASF\"))\n",
    "print(TextContainer.removePunctuation(\"%€&AD#ASF\"))\n",
    "            \n",
    "\n",
    "        \n",
    "\n"
   ]
  },
  {
   "cell_type": "code",
   "execution_count": null,
   "metadata": {},
   "outputs": [],
   "source": []
  },
  {
   "cell_type": "code",
   "execution_count": null,
   "metadata": {},
   "outputs": [],
   "source": []
  }
 ],
 "metadata": {
  "kernelspec": {
   "display_name": "Python 2",
   "language": "python",
   "name": "python2"
  },
  "language_info": {
   "codemirror_mode": {
    "name": "ipython",
    "version": 3
   },
   "file_extension": ".py",
   "mimetype": "text/x-python",
   "name": "python",
   "nbconvert_exporter": "python",
   "pygments_lexer": "ipython3",
   "version": "3.7.2"
  }
 },
 "nbformat": 4,
 "nbformat_minor": 4
}
