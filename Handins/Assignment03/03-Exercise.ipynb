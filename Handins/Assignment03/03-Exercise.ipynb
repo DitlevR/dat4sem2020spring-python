{
 "cells": [
  {
   "cell_type": "markdown",
   "metadata": {},
   "source": [
    "# Exercise for the 3rd course week\n",
    "\n",
    "## Ex 1 Classes\n",
    "1. Create 3 classes: Student, DataSheet and Course\n",
    "2. A student has a data_sheet and a data_sheet has multiple courses in particular order\n",
    "3. Each course has name, classroom, teacher, ETCS and optional grade if course is taken.\n",
    "4. In Student create __init__() so that a Student can be initiated with name, gender, data_sheet and image_url\n",
    "5. In DataSheet create a method to get_grades_as_list()\n",
    "6. In student create a method: get_avg_grade()\n",
    "7. Create a function that can generate n number of students with random: name, gender, courses (from a fixed list of course names), grades, img_url\n",
    "   1. Let the function write the result to a csv file with format stud_name, course_name, teacher, ects, classroom, grade, img_url\n",
    "7. Read student data into a list of Students from a csv file: \n",
    "   1. loop through the list and print each student with name, img_url and avg_grade.\n",
    "   2. sort the list by avg_grade\n",
    "   3. create a bar chart with student_name on x and avg_grade on y-axis\n",
    "8. Make a method on Student class that can show progression of the study in % (add up ECTS from all passed courses divided by total of 150 total points (equivalent to 5 semesters))\n",
    "9. Show a bar chart of distribution of study progression on x-axis and number of students in each category on y-axis. (e.g. make 10 categories from 0-100%)\n",
    "\n",
    "Extra: Make the Datasheet class iterable so that next(data_sheet) will return the next course in the list\n",
    "\n",
    "## Ex 2 Exceptions\n",
    "1. Create a function that can take a list of students and return the 3 students closest to completing their study.\n",
    "2. If list is shorter than 3 raise your own custom exception (NotEnoughStudentsException)\n",
    "3. Create another function that can create a csv file with 3 students closest to completion\n",
    "   1. If an exception is raised write an appropriate message to the file\n",
    "\n",
    "## Ex 3 Plotting\n",
    "1. Create a function that can take a list of students and show a pie chart of how students are distributed in ECTS percentage categories (10%, 20%, ...)\n",
    "2. create a function that can take a list of students and show how many students have taken each course (bar chart)\n",
    "   1. create a method on student that can return a list of courses\n",
    "3. make the figure show males and females in different colors for each course (display 2 datasets in same figure)\n"
   ]
  },
  {
   "cell_type": "code",
   "execution_count": 159,
   "metadata": {},
   "outputs": [
    {
     "data": {
      "text/plain": [
       "[\"'Hans Ibsen'\", \" 'Man'\", Datasheet(\" 'Mathematics'\", \" 'Ms. Passwater'\", ' 10', \" '405'\"), \" 'https://picsum.photos/200/300'\",\n",
       " \"'Andreas Søberg'\", \" 'Woman'\", Datasheet(\" 'Mathematics'\", \" 'Ms. Passwater'\", ' 10', \" '405'\"), \" 'https://picsum.photos/200/300'\",\n",
       " \"'Andreas Andersen'\", \" 'Woman'\", Datasheet(\" 'Physics'\", \" 'John John'\", ' 20', ' 105'), \" 'https://picsum.photos/200/300'\",\n",
       " \"'Philip Ibsen'\", \" 'Woman'\", Datasheet(\" 'Mathematics'\", \" 'Ms. Passwater'\", ' 10', \" '405'\"), \" 'https://picsum.photos/200/300'\",\n",
       " \"'Hans Søberg'\", \" 'Woman'\", Datasheet(\" 'Physics'\", \" 'John John'\", ' 20', ' 105'), \" 'https://picsum.photos/200/300'\"]"
      ]
     },
     "execution_count": 159,
     "metadata": {},
     "output_type": "execute_result"
    }
   ],
   "source": [
    "import random\n",
    "import csv\n",
    "\n",
    "class Student:\n",
    "\n",
    "    def __init__(self, name, gender, data_sheet, image_url):\n",
    "        self.name = name\n",
    "        self.gender = gender\n",
    "        self.data_sheet = data_sheet\n",
    "        self.image_url = image_url\n",
    "\n",
    "    def get_avg_grade(self):\n",
    "        gradelist = DataSheet.get_grades_as_list(self.data_sheet)\n",
    "        return sum(gradelist/len())\n",
    "        \n",
    "    def __repr__(self):\n",
    "        return \"%r, %r, %r, %r\" % (self.name, self.gender, self.data_sheet, self.image_url)\n",
    "\n",
    "class Course:\n",
    "    def __init__(self, name, classroom, teacher, ETCS, grade=None):\n",
    "        self.name = name\n",
    "        self.classroom = classroom\n",
    "        self.teacher = teacher\n",
    "        self.ETCS = ETCS\n",
    "        self.grade = grade\n",
    "        \n",
    "    def __repr__(self):\n",
    "        return \"%r, %r, %r, %r\" % (self.name, self.teacher, self.ETCS, self.classroom)\n",
    "    \n",
    "        \n",
    "        \n",
    "        \n",
    "def get_courses():\n",
    "    grades = [-3,0,2,4,7,10,12]\n",
    "    courses = [Course('Mathematics', '405', 'Ms. Passwater', 10, random.choice(grades)), Course('Physics' , 105, 'John John', 20, random.choice(grades))]\n",
    "    return courses\n",
    "\n",
    "def generateStudents():\n",
    "    names = ('Hans', 'Philip', 'Andreas')\n",
    "    last_names = ('Andersen', 'Ibsen', 'Søberg')\n",
    "    genders = ('Man', 'Woman')\n",
    "    course = random.choice(get_courses())\n",
    "    img_url = 'https://picsum.photos/200/300'\n",
    "\n",
    "    newStudent = Student(random.choice(names) + \" \" + random.choice(last_names), random.choice(genders), course, img_url)\n",
    "    return newStudent\n",
    "\n",
    "def writeStudentDataToCSV(n):\n",
    "    \n",
    "    with open('student_data.csv', 'w') as file:\n",
    "\n",
    "        for x in range(n):\n",
    "            student = generateStudents()\n",
    "            file.write(repr(student) + '\\n')\n",
    "        \n",
    "def readStudentData(file):\n",
    "    students = list()\n",
    "    studentsObject = []\n",
    "    aStudent = ''\n",
    "    with open(file, 'r') as file:\n",
    "        reader = csv.reader(file, delimiter = ',')\n",
    "        for line in reader:\n",
    "            studentCourse = Course(line[2],line[5], line[3],line[4])\n",
    "            studentDatasheet = DataSheet(studentCourse)\n",
    "            aStudent = Student(line[0], line[1],studentDatasheet,line[6])\n",
    "            students.append(aStudent)\n",
    "            \n",
    "    return students\n",
    "            \n",
    "    file.close()\n",
    "    #for student in students:\n",
    "        # print(students[0])\n",
    "        #        aStudent = Student(students[1[1]])\n",
    " #       studentsObject.append(aStudent)\n",
    "    \n",
    "   # return studentsObject\n",
    "                            \n",
    "            \n",
    "\n",
    "    \n",
    "class DataSheet:\n",
    "    \n",
    "    def __init__(self,courses=[]):\n",
    "        self.courses = courses\n",
    "        \n",
    "    def __repr__(self):\n",
    "        return \"Datasheet(%r)\" % (self.courses)\n",
    "    \n",
    "    def get_grades_as_list(self):\n",
    "        grade_list = []\n",
    "        for course in self.courses:\n",
    "            grade_list.append(int(course.get_grade()))\n",
    "        return grade_list\n",
    "        \n",
    "    def list_course(self):\n",
    "        return [self.name, self.classroom, self.teacher, self.ETCS, self.grade]\n",
    "        \n",
    "\n",
    "\n",
    "#7. Read student data into a list of Students from a csv file: \n",
    "\n",
    "\n",
    "\n",
    "student = generateStudents()\n",
    "student\n",
    "writeStudentDataToCSV(5)\n",
    "readStudentData('student_data.csv')"
   ]
  },
  {
   "cell_type": "code",
   "execution_count": 218,
   "metadata": {},
   "outputs": [
    {
     "name": "stdout",
     "output_type": "stream",
     "text": [
      "['Hans Ibsen', 'Woman', 'Physics', 'John John', 20, 105, 'https://picsum.photos/200/300', 'Andreas Ibsen', 'Woman', 'Mathematics', 'Ms. Passwater', 10, '405', 'https://picsum.photos/200/300', 'Andreas Søberg', 'Woman', 'Physics', 'John John', 20, 105, 'https://picsum.photos/200/300']\n"
     ]
    },
    {
     "data": {
      "text/plain": [
       "'Hans Ibsen', 'Woman', 'Physics', 'John John', 20, 105, 'https://picsum.photos/200/300'"
      ]
     },
     "execution_count": 218,
     "metadata": {},
     "output_type": "execute_result"
    }
   ],
   "source": [
    "## Ex 2 Exceptions\n",
    "#1. Create a function that can take a list of students and return the 3 students closest to completing their study.\n",
    "#2. If list is shorter than 3 raise your own custom exception (NotEnoughStudentsException)\n",
    "#3. Create another function that can create a csv file with 3 students closest to completion\n",
    "#   1. If an exception is raised write an appropriate message to the file\n",
    "\n",
    "class NotEnoughStudentsException(Exception):\n",
    "    def __init__(self, *args, **kwargs):\n",
    "        Exception.__init__(self, *args, **kwargs)\n",
    "        \n",
    "def closeToCompletion(students):\n",
    "    \n",
    "    if len(students) >= 3:\n",
    "        ects = 0\n",
    "        for s in students:\n",
    "            if s.data_sheet.ETCS > ects:\n",
    "                ects = s.data_sheet.ETCS\n",
    "                student = s\n",
    "        return student\n",
    "    \n",
    "    else: \n",
    "        raise NotEnoughStudentsException(\"Only {} students were given, minimum 3 is required\".format(len(students)))\n",
    "                \n",
    "student1 = generateStudents()\n",
    "student2 = generateStudents()\n",
    "student3 = generateStudents()\n",
    "\n",
    "sList = []\n",
    "sList.append(student1)\n",
    "sList.append(student2)\n",
    "sList.append(student3)\n",
    "print(sList)\n",
    "\n",
    "closeToCompletion(sList)\n"
   ]
  },
  {
   "cell_type": "code",
   "execution_count": null,
   "metadata": {},
   "outputs": [],
   "source": []
  },
  {
   "cell_type": "code",
   "execution_count": null,
   "metadata": {},
   "outputs": [],
   "source": []
  },
  {
   "cell_type": "code",
   "execution_count": null,
   "metadata": {},
   "outputs": [],
   "source": []
  },
  {
   "cell_type": "code",
   "execution_count": null,
   "metadata": {},
   "outputs": [],
   "source": []
  },
  {
   "cell_type": "code",
   "execution_count": null,
   "metadata": {},
   "outputs": [],
   "source": []
  },
  {
   "cell_type": "code",
   "execution_count": null,
   "metadata": {},
   "outputs": [],
   "source": []
  }
 ],
 "metadata": {
  "kernelspec": {
   "display_name": "Python 2",
   "language": "python",
   "name": "python2"
  },
  "language_info": {
   "codemirror_mode": {
    "name": "ipython",
    "version": 3
   },
   "file_extension": ".py",
   "mimetype": "text/x-python",
   "name": "python",
   "nbconvert_exporter": "python",
   "pygments_lexer": "ipython3",
   "version": "3.7.2"
  },
  "varInspector": {
   "cols": {
    "lenName": 16,
    "lenType": 16,
    "lenVar": 40
   },
   "kernels_config": {
    "python": {
     "delete_cmd_postfix": "",
     "delete_cmd_prefix": "del ",
     "library": "var_list.py",
     "varRefreshCmd": "print(var_dic_list())"
    },
    "r": {
     "delete_cmd_postfix": ") ",
     "delete_cmd_prefix": "rm(",
     "library": "var_list.r",
     "varRefreshCmd": "cat(var_dic_list()) "
    }
   },
   "types_to_exclude": [
    "module",
    "function",
    "builtin_function_or_method",
    "instance",
    "_Feature"
   ],
   "window_display": false
  }
 },
 "nbformat": 4,
 "nbformat_minor": 2
}
