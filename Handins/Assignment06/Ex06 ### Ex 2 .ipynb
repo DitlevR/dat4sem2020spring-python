{
 "cells": [
  {
   "cell_type": "raw",
   "metadata": {},
   "source": [
    "### Ex 2\n",
    "#Create a notebook and import your module from above\n",
    "#1. Find 10 books on https://www.gutenberg.org/browse/scores/top and download them using an object of the class you just created before\n",
    "#2. Test the different methods of your class\n",
    "#3. Make a bar plot with a sorted list of books on x-axis and avg vowels on y-axis\n"
   ]
  },
  {
   "cell_type": "code",
   "execution_count": 5,
   "metadata": {},
   "outputs": [],
   "source": [
    "import import_ipynb\n",
    "import Assignment\n",
    "import matplotlib.pyplot as plt\n",
    "gen=Assignment.UrlGenerator\n",
    "\n",
    "url_list = ('https://www.gutenberg.org/files/1342/1342-0.txt', 'https://www.gutenberg.org/files/11/11-0.txt', 'https://www.gutenberg.org/files/84/84-0.txt')\n",
    "#gen.multi_download(list(url_list))\n",
    "\n",
    "listurl = gen(list(url_list))\n"
   ]
  },
  {
   "cell_type": "code",
   "execution_count": 6,
   "metadata": {},
   "outputs": [],
   "source": [
    "\n",
    "\n",
    "book1 = listurl.avg_vowels('todelete0.txt')\n",
    "book2 = listurl.avg_vowels('todelete1.txt')\n",
    "book3 = listurl.avg_vowels('todelete2.txt')\n"
   ]
  },
  {
   "cell_type": "code",
   "execution_count": 15,
   "metadata": {},
   "outputs": [
    {
     "data": {
      "text/plain": [
       "<BarContainer object of 1 artists>"
      ]
     },
     "execution_count": 15,
     "metadata": {},
     "output_type": "execute_result"
    },
    {
     "data": {
      "image/png": "[encoded data removed]",
      "text/plain": [
       "<Figure size 432x288 with 1 Axes>"
      ]
     },
     "metadata": {
      "needs_background": "light"
     },
     "output_type": "display_data"
    }
   ],
   "source": [
    "plt.bar('todelete0.txt',book1)\n",
    "plt.bar('todelete1.txt',book2)\n",
    "plt.bar('todelete2.txt',book3)\n"
   ]
  },
  {
   "cell_type": "code",
   "execution_count": null,
   "metadata": {},
   "outputs": [],
   "source": []
  }
 ],
 "metadata": {
  "kernelspec": {
   "display_name": "Python 3",
   "language": "python",
   "name": "python3"
  },
  "language_info": {
   "codemirror_mode": {
    "name": "ipython",
    "version": 3
   },
   "file_extension": ".py",
   "mimetype": "text/x-python",
   "name": "python",
   "nbconvert_exporter": "python",
   "pygments_lexer": "ipython3",
   "version": "3.7.2"
  }
 },
 "nbformat": 4,
 "nbformat_minor": 4
}
