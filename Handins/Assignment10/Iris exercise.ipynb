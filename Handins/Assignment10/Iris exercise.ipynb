{
 "cells": [
  {
   "cell_type": "code",
   "execution_count": 7,
   "metadata": {},
   "outputs": [
    {
     "data": {
      "text/html": [
       "<div>\n",
       "<style scoped>\n",
       "    .dataframe tbody tr th:only-of-type {\n",
       "        vertical-align: middle;\n",
       "    }\n",
       "\n",
       "    .dataframe tbody tr th {\n",
       "        vertical-align: top;\n",
       "    }\n",
       "\n",
       "    .dataframe thead th {\n",
       "        text-align: right;\n",
       "    }\n",
       "</style>\n",
       "<table border=\"1\" class=\"dataframe\">\n",
       "  <thead>\n",
       "    <tr style=\"text-align: right;\">\n",
       "      <th></th>\n",
       "      <th>Sepal length</th>\n",
       "      <th>Sepal width</th>\n",
       "      <th>Petal length</th>\n",
       "      <th>Petal width</th>\n",
       "      <th>Species_I. setosa</th>\n",
       "      <th>Species_I. versicolor</th>\n",
       "      <th>Species_I. virginica</th>\n",
       "    </tr>\n",
       "  </thead>\n",
       "  <tbody>\n",
       "    <tr>\n",
       "      <th>0</th>\n",
       "      <td>5.1</td>\n",
       "      <td>3.5</td>\n",
       "      <td>1.4</td>\n",
       "      <td>0.2</td>\n",
       "      <td>1</td>\n",
       "      <td>0</td>\n",
       "      <td>0</td>\n",
       "    </tr>\n",
       "    <tr>\n",
       "      <th>1</th>\n",
       "      <td>4.9</td>\n",
       "      <td>3.0</td>\n",
       "      <td>1.4</td>\n",
       "      <td>0.2</td>\n",
       "      <td>1</td>\n",
       "      <td>0</td>\n",
       "      <td>0</td>\n",
       "    </tr>\n",
       "    <tr>\n",
       "      <th>2</th>\n",
       "      <td>4.7</td>\n",
       "      <td>3.2</td>\n",
       "      <td>1.3</td>\n",
       "      <td>0.2</td>\n",
       "      <td>1</td>\n",
       "      <td>0</td>\n",
       "      <td>0</td>\n",
       "    </tr>\n",
       "    <tr>\n",
       "      <th>3</th>\n",
       "      <td>4.6</td>\n",
       "      <td>3.1</td>\n",
       "      <td>1.5</td>\n",
       "      <td>0.2</td>\n",
       "      <td>1</td>\n",
       "      <td>0</td>\n",
       "      <td>0</td>\n",
       "    </tr>\n",
       "    <tr>\n",
       "      <th>4</th>\n",
       "      <td>5.0</td>\n",
       "      <td>3.6</td>\n",
       "      <td>1.4</td>\n",
       "      <td>0.2</td>\n",
       "      <td>1</td>\n",
       "      <td>0</td>\n",
       "      <td>0</td>\n",
       "    </tr>\n",
       "  </tbody>\n",
       "</table>\n",
       "</div>"
      ],
      "text/plain": [
       "   Sepal length  Sepal width  Petal length  Petal width  Species_I. setosa  \\\n",
       "0           5.1          3.5           1.4          0.2                  1   \n",
       "1           4.9          3.0           1.4          0.2                  1   \n",
       "2           4.7          3.2           1.3          0.2                  1   \n",
       "3           4.6          3.1           1.5          0.2                  1   \n",
       "4           5.0          3.6           1.4          0.2                  1   \n",
       "\n",
       "   Species_I. versicolor  Species_I. virginica  \n",
       "0                      0                     0  \n",
       "1                      0                     0  \n",
       "2                      0                     0  \n",
       "3                      0                     0  \n",
       "4                      0                     0  "
      ]
     },
     "execution_count": 7,
     "metadata": {},
     "output_type": "execute_result"
    }
   ],
   "source": [
    "#Exercise 2 use meanshift on the iris dataset\n",
    "\n",
    "\n",
    "\n",
    "#use: MeanShift and estimate_bandwidth from sklearn.cluster to first estimate bandwidth and then get the clusters (HINT: estimate_bandwidth() takes an argument: quantile set it to 0.2 for best result\n",
    "#print out labels, cluster centers and number of clusters (as returned from the MeanShift function\n",
    "#create a new scatter plot where each flower is colored according to cluster label\n",
    "#add a dot for the cluster centers\n",
    "#Compare the 2 plots (colored by actual labels vs. colored by cluster label)\n",
    "\n",
    "import matplotlib.pyplot as plot\n",
    "from sklearn.datasets import make_blobs\n",
    "import pandas as pd \n",
    "import numpy as np\n",
    "from sklearn import preprocessing\n",
    "\n",
    "#load 'iris_data.csv' into a dataframe\n",
    "df = pd.ExcelFile('iris_data.xlsx')\n",
    "iris_data = df.parse('Fisher\\'s Iris Data')\n",
    "iris_data = pd.get_dummies(iris_data,columns=['Species'])\n",
    "iris_data.head()"
   ]
  },
  {
   "cell_type": "code",
   "execution_count": 8,
   "metadata": {},
   "outputs": [
    {
     "data": {
      "text/plain": [
       "0.9828076649294603"
      ]
     },
     "execution_count": 8,
     "metadata": {},
     "output_type": "execute_result"
    }
   ],
   "source": [
    "from sklearn.cluster import estimate_bandwidth, MeanShift\n",
    "estimate_bandwidth(iris_data, quantile=0.2)\n",
    "#iris_data"
   ]
  },
  {
   "cell_type": "code",
   "execution_count": 9,
   "metadata": {},
   "outputs": [
    {
     "data": {
      "text/plain": [
       "MeanShift(bandwidth=1.0, bin_seeding=False, cluster_all=True, max_iter=300,\n",
       "          min_bin_freq=1, n_jobs=None, seeds=None)"
      ]
     },
     "execution_count": 9,
     "metadata": {},
     "output_type": "execute_result"
    }
   ],
   "source": [
    "analyzer = MeanShift(bandwidth=1.0)\n",
    "analyzer.fit(iris_data)"
   ]
  },
  {
   "cell_type": "code",
   "execution_count": 10,
   "metadata": {},
   "outputs": [
    {
     "name": "stdout",
     "output_type": "stream",
     "text": [
      "[0 0 0 0 0 0 0 0 0 0 0 0 0 0 0 0 0 0 0 0 0 0 0 0 0 0 0 0 0 0 0 0 0 0 0 0 0\n",
      " 0 0 0 0 0 0 0 0 0 0 0 0 0 1 1 1 1 1 1 1 1 1 1 1 1 1 1 1 1 1 1 1 1 1 1 1 1\n",
      " 1 1 1 1 1 1 1 1 1 1 1 1 1 1 1 1 1 1 1 1 1 1 1 1 1 1 2 2 2 2 2 2 2 2 2 2 2\n",
      " 2 2 2 2 2 2 2 2 2 2 2 2 2 2 2 2 2 2 2 2 2 2 2 2 2 2 2 2 2 2 2 2 2 2 2 2 2\n",
      " 2 2]\n",
      "\n",
      "\n",
      " [0 1 2]\n"
     ]
    }
   ],
   "source": [
    "#get unique labels (Species column)\n",
    "labels = analyzer.labels_\n",
    "print(labels)\n",
    "unique_labels = np.unique(labels)\n",
    "print('\\n\\n',unique_labels)\n",
    "\n"
   ]
  },
  {
   "cell_type": "code",
   "execution_count": 12,
   "metadata": {},
   "outputs": [
    {
     "name": "stdout",
     "output_type": "stream",
     "text": [
      "[[1.96299    1.87402377]\n",
      " [0.95746873 0.8894327 ]\n",
      " [0.82373702 1.06829509]\n",
      " [2.1011613  1.99266491]\n",
      " [1.93656377 1.94223904]\n",
      " [1.93118778 2.04312798]\n",
      " [3.07140951 2.906816  ]\n",
      " [1.11768155 1.13737651]\n",
      " [2.03502856 1.9479671 ]\n",
      " [1.89849553 2.0959384 ]\n",
      " [1.99136685 1.9709192 ]\n",
      " [1.03553813 0.99769847]\n",
      " [1.91724322 2.11823937]\n",
      " [1.10379135 0.93204669]\n",
      " [2.89485819 2.92706247]\n",
      " [0.90820624 1.00913704]\n",
      " [1.8411362  1.99590109]\n",
      " [1.8994038  1.9023287 ]\n",
      " [3.03676227 2.87806455]\n",
      " [1.05681337 1.19234669]\n",
      " [0.80283513 1.02133867]\n",
      " [2.98636167 3.13021992]\n",
      " [0.96782669 1.08066447]\n",
      " [3.04828266 2.98560871]\n",
      " [1.84151958 1.96173607]\n",
      " [3.24462816 3.0169338 ]\n",
      " [1.89429843 2.07221589]\n",
      " [0.9454555  1.04030321]\n",
      " [2.83822778 2.93958202]\n",
      " [3.03829118 2.98661804]\n",
      " [3.03609693 2.81600508]\n",
      " [2.92709373 2.87095561]\n",
      " [0.83798345 1.1712905 ]\n",
      " [3.01715751 2.91078129]\n",
      " [3.16410714 3.00730137]\n",
      " [1.96362938 1.81570447]\n",
      " [2.88887835 2.8398366 ]\n",
      " [3.20256666 2.99243703]\n",
      " [0.82181075 0.97152358]\n",
      " [2.15518761 1.98034157]\n",
      " [1.00152733 1.01030127]\n",
      " [3.26629289 3.05264769]\n",
      " [3.21150701 2.93570009]\n",
      " [0.93330493 1.00570515]\n",
      " [2.06582742 2.05573002]\n",
      " [3.00708237 2.91787297]\n",
      " [2.76306441 3.09534412]\n",
      " [2.0750516  2.11344829]\n",
      " [1.058342   1.12121872]\n",
      " [2.97083755 2.87363837]\n",
      " [1.07018022 0.91379606]\n",
      " [2.1697653  1.95376056]\n",
      " [3.03402444 2.98610398]\n",
      " [1.09651452 1.08789996]\n",
      " [1.98293509 2.22153336]\n",
      " [0.83852549 1.04575437]\n",
      " [2.24017824 2.16900732]\n",
      " [2.97243245 2.95130834]\n",
      " [0.82421738 1.02348918]\n",
      " [1.7864465  2.05416313]\n",
      " [1.12457842 1.1534212 ]\n",
      " [2.94524841 2.90341372]\n",
      " [2.96137528 2.95411424]\n",
      " [1.07844942 1.03474663]\n",
      " [0.98113174 0.88058143]\n",
      " [1.99604265 1.84090976]\n",
      " [3.02550622 2.91798528]\n",
      " [2.0487359  2.2240093 ]\n",
      " [2.2028363  2.14073118]\n",
      " [3.21394708 2.8757318 ]\n",
      " [1.85416384 2.19589299]\n",
      " [1.0261059  1.08053616]\n",
      " [3.10175252 3.09042563]\n",
      " [2.85456464 3.09489678]\n",
      " [1.92918488 2.01993555]\n",
      " [2.06329427 1.99281534]\n",
      " [1.86201252 2.02397854]\n",
      " [1.92127555 2.05354622]\n",
      " [2.12412361 2.04582339]\n",
      " [1.95691697 1.98171278]\n",
      " [1.826698   1.83165392]\n",
      " [2.9421605  3.03896957]\n",
      " [2.72280044 3.06287773]\n",
      " [2.01277886 1.99085176]\n",
      " [2.04773848 2.08119284]\n",
      " [3.22783341 3.12534184]\n",
      " [1.06166656 1.05227134]\n",
      " [2.10856847 2.03721119]\n",
      " [2.02205595 1.85106032]\n",
      " [1.97088944 2.04562465]\n",
      " [2.0470723  1.86819056]\n",
      " [0.9194513  0.99829773]\n",
      " [1.0007504  1.11926383]\n",
      " [2.93819726 3.00812157]\n",
      " [0.95766875 1.0914836 ]\n",
      " [1.00312324 1.01364055]\n",
      " [3.0709413  3.10204125]\n",
      " [0.97886772 1.31879953]\n",
      " [1.03158961 0.93144193]\n",
      " [3.03996771 3.08942093]\n",
      " [0.87928621 0.96097724]\n",
      " [3.03147241 2.91668534]\n",
      " [2.00697345 2.06495751]\n",
      " [2.83139398 3.17628823]\n",
      " [1.06054576 1.0656512 ]\n",
      " [0.94746774 0.97475853]\n",
      " [2.05746927 1.86761237]\n",
      " [1.96373453 2.13763924]\n",
      " [2.10524578 1.91981408]\n",
      " [1.1892579  1.04949671]\n",
      " [1.15371109 1.00739144]\n",
      " [1.05972761 0.86875826]\n",
      " [0.98890696 0.89959909]\n",
      " [2.03997262 1.80301531]\n",
      " [2.84738549 2.97737451]\n",
      " [2.84732105 3.06536273]\n",
      " [1.89760608 2.04105157]\n",
      " [0.90621762 0.85437608]\n",
      " [1.91384843 1.93306597]\n",
      " [2.09233879 1.95569665]\n",
      " [0.90795704 0.91671755]\n",
      " [2.94958921 2.96648381]\n",
      " [3.04821979 2.96740928]\n",
      " [0.96583896 0.89168234]\n",
      " [2.13867612 1.99591114]\n",
      " [0.89634246 0.98473826]\n",
      " [1.09035554 0.9929321 ]\n",
      " [0.94811551 1.02463327]\n",
      " [1.2546837  0.93834624]\n",
      " [2.88887239 2.96132201]\n",
      " [2.99527423 3.08999341]\n",
      " [3.11083943 2.97244611]\n",
      " [3.03515944 3.02915265]\n",
      " [1.07558281 1.03138639]\n",
      " [2.04814734 2.06415105]\n",
      " [1.87056878 2.10854799]\n",
      " [2.89760595 3.07988845]\n",
      " [3.1768489  3.06556801]\n",
      " [2.91398988 3.05970337]\n",
      " [0.99758185 1.01270905]\n",
      " [3.11171885 2.89627943]\n",
      " [3.00803192 3.01847085]\n",
      " [2.14048529 1.98604568]\n",
      " [1.04781764 1.0462769 ]\n",
      " [1.13324723 0.94635635]\n",
      " [1.93845312 1.96551187]\n",
      " [1.02931611 1.15123906]\n",
      " [0.9933272  0.9330274 ]\n",
      " [3.02820378 2.96463606]\n",
      " [2.99964178 2.99243728]]\n",
      "(150, 2)\n"
     ]
    },
    {
     "data": {
      "text/plain": [
       "[<matplotlib.lines.Line2D at 0x123ccde80>]"
      ]
     },
     "execution_count": 12,
     "metadata": {},
     "output_type": "execute_result"
    },
    {
     "data": {
      "image/png": "[encoded data removed]",
      "text/plain": [
       "<Figure size 432x288 with 1 Axes>"
      ]
     },
     "metadata": {
      "needs_background": "light"
     },
     "output_type": "display_data"
    }
   ],
   "source": [
    "#plot with a scatter plot each iris flower sample colored by label (3 different colors)\n",
    "\n",
    "centers = [[1, 1], [2, 2], [3, 3]] \n",
    "data_2d, _ = make_blobs(n_samples=150, centers=centers, cluster_std=0.1)\n",
    "print(data_2d)\n",
    "print(np.shape(data_2d))\n",
    "plot.plot(data_2d[:,0], data_2d[:,1], 'b.')"
   ]
  },
  {
   "cell_type": "code",
   "execution_count": 16,
   "metadata": {},
   "outputs": [
    {
     "name": "stdout",
     "output_type": "stream",
     "text": [
      "[[4.98510638 3.41914894 1.47021277 0.24255319 1.         0.\n",
      "  0.        ]\n",
      " [5.95813953 2.79069767 4.30930233 1.33953488 0.         1.\n",
      "  0.        ]\n",
      " [6.37567568 2.95945946 5.36216216 2.04324324 0.         0.\n",
      "  1.        ]]\n"
     ]
    }
   ],
   "source": [
    "#Cluster\n",
    "clusters = analyzer.cluster_centers_\n",
    "print(clusters)"
   ]
  },
  {
   "cell_type": "code",
   "execution_count": 32,
   "metadata": {},
   "outputs": [
    {
     "name": "stdout",
     "output_type": "stream",
     "text": [
      "Number of Clusters: 3\n"
     ]
    }
   ],
   "source": [
    "\n",
    "clusters_length = len(analyzer.cluster_centers_)\n",
    "print('Number of Clusters: {}'.format(clusters_length))"
   ]
  },
  {
   "cell_type": "code",
   "execution_count": null,
   "metadata": {},
   "outputs": [],
   "source": []
  },
  {
   "cell_type": "code",
   "execution_count": null,
   "metadata": {},
   "outputs": [],
   "source": []
  },
  {
   "cell_type": "code",
   "execution_count": null,
   "metadata": {},
   "outputs": [],
   "source": []
  },
  {
   "cell_type": "code",
   "execution_count": null,
   "metadata": {},
   "outputs": [],
   "source": []
  }
 ],
 "metadata": {
  "kernelspec": {
   "display_name": "Python 3",
   "language": "python",
   "name": "python3"
  },
  "language_info": {
   "codemirror_mode": {
    "name": "ipython",
    "version": 3
   },
   "file_extension": ".py",
   "mimetype": "text/x-python",
   "name": "python",
   "nbconvert_exporter": "python",
   "pygments_lexer": "ipython3",
   "version": "3.7.2"
  }
 },
 "nbformat": 4,
 "nbformat_minor": 4
}
