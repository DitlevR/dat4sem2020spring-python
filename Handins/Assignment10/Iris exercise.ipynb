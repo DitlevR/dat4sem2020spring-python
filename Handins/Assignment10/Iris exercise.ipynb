{
 "cells": [
  {
   "cell_type": "code",
   "execution_count": 31,
   "metadata": {},
   "outputs": [
    {
     "data": {
      "text/html": [
       "<div>\n",
       "<style scoped>\n",
       "    .dataframe tbody tr th:only-of-type {\n",
       "        vertical-align: middle;\n",
       "    }\n",
       "\n",
       "    .dataframe tbody tr th {\n",
       "        vertical-align: top;\n",
       "    }\n",
       "\n",
       "    .dataframe thead th {\n",
       "        text-align: right;\n",
       "    }\n",
       "</style>\n",
       "<table border=\"1\" class=\"dataframe\">\n",
       "  <thead>\n",
       "    <tr style=\"text-align: right;\">\n",
       "      <th></th>\n",
       "      <th>Sepal length</th>\n",
       "      <th>Sepal width</th>\n",
       "      <th>Petal length</th>\n",
       "      <th>Petal width</th>\n",
       "      <th>Species_I. setosa</th>\n",
       "      <th>Species_I. versicolor</th>\n",
       "      <th>Species_I. virginica</th>\n",
       "    </tr>\n",
       "  </thead>\n",
       "  <tbody>\n",
       "    <tr>\n",
       "      <th>0</th>\n",
       "      <td>5.1</td>\n",
       "      <td>3.5</td>\n",
       "      <td>1.4</td>\n",
       "      <td>0.2</td>\n",
       "      <td>1</td>\n",
       "      <td>0</td>\n",
       "      <td>0</td>\n",
       "    </tr>\n",
       "    <tr>\n",
       "      <th>1</th>\n",
       "      <td>4.9</td>\n",
       "      <td>3.0</td>\n",
       "      <td>1.4</td>\n",
       "      <td>0.2</td>\n",
       "      <td>1</td>\n",
       "      <td>0</td>\n",
       "      <td>0</td>\n",
       "    </tr>\n",
       "    <tr>\n",
       "      <th>2</th>\n",
       "      <td>4.7</td>\n",
       "      <td>3.2</td>\n",
       "      <td>1.3</td>\n",
       "      <td>0.2</td>\n",
       "      <td>1</td>\n",
       "      <td>0</td>\n",
       "      <td>0</td>\n",
       "    </tr>\n",
       "    <tr>\n",
       "      <th>3</th>\n",
       "      <td>4.6</td>\n",
       "      <td>3.1</td>\n",
       "      <td>1.5</td>\n",
       "      <td>0.2</td>\n",
       "      <td>1</td>\n",
       "      <td>0</td>\n",
       "      <td>0</td>\n",
       "    </tr>\n",
       "    <tr>\n",
       "      <th>4</th>\n",
       "      <td>5.0</td>\n",
       "      <td>3.6</td>\n",
       "      <td>1.4</td>\n",
       "      <td>0.2</td>\n",
       "      <td>1</td>\n",
       "      <td>0</td>\n",
       "      <td>0</td>\n",
       "    </tr>\n",
       "  </tbody>\n",
       "</table>\n",
       "</div>"
      ],
      "text/plain": [
       "   Sepal length  Sepal width  Petal length  Petal width  Species_I. setosa  \\\n",
       "0           5.1          3.5           1.4          0.2                  1   \n",
       "1           4.9          3.0           1.4          0.2                  1   \n",
       "2           4.7          3.2           1.3          0.2                  1   \n",
       "3           4.6          3.1           1.5          0.2                  1   \n",
       "4           5.0          3.6           1.4          0.2                  1   \n",
       "\n",
       "   Species_I. versicolor  Species_I. virginica  \n",
       "0                      0                     0  \n",
       "1                      0                     0  \n",
       "2                      0                     0  \n",
       "3                      0                     0  \n",
       "4                      0                     0  "
      ]
     },
     "execution_count": 31,
     "metadata": {},
     "output_type": "execute_result"
    }
   ],
   "source": [
    "#Exercise 2 use meanshift on the iris dataset\n",
    "\n",
    "\n",
    "\n",
    "#use: MeanShift and estimate_bandwidth from sklearn.cluster to first estimate bandwidth and then get the clusters (HINT: estimate_bandwidth() takes an argument: quantile set it to 0.2 for best result\n",
    "#print out labels, cluster centers and number of clusters (as returned from the MeanShift function\n",
    "#create a new scatter plot where each flower is colored according to cluster label\n",
    "#add a dot for the cluster centers\n",
    "#Compare the 2 plots (colored by actual labels vs. colored by cluster label)\n",
    "\n",
    "import matplotlib.pyplot as plot\n",
    "from sklearn.datasets import make_blobs\n",
    "import pandas as pd \n",
    "import numpy as np\n",
    "from sklearn import preprocessing\n",
    "\n",
    "#load 'iris_data.csv' into a dataframe\n",
    "df = pd.ExcelFile('iris_data.xlsx')\n",
    "iris_data = df.parse('Fisher\\'s Iris Data')\n",
    "iris_data = pd.get_dummies(iris_data,columns=['Species'])\n",
    "iris_data.head()"
   ]
  },
  {
   "cell_type": "code",
   "execution_count": 40,
   "metadata": {},
   "outputs": [
    {
     "data": {
      "text/plain": [
       "150"
      ]
     },
     "execution_count": 40,
     "metadata": {},
     "output_type": "execute_result"
    }
   ],
   "source": [
    "from sklearn.cluster import estimate_bandwidth, MeanShift\n",
    "estimate_bandwidth(iris_data, quantile=0.2)\n",
    "#iris_data"
   ]
  },
  {
   "cell_type": "code",
   "execution_count": 3,
   "metadata": {},
   "outputs": [
    {
     "data": {
      "text/plain": [
       "MeanShift(bandwidth=1.0, bin_seeding=False, cluster_all=True, max_iter=300,\n",
       "          min_bin_freq=1, n_jobs=None, seeds=None)"
      ]
     },
     "execution_count": 3,
     "metadata": {},
     "output_type": "execute_result"
    }
   ],
   "source": [
    "analyzer = MeanShift(bandwidth=1.0)\n",
    "analyzer.fit(iris_data)"
   ]
  },
  {
   "cell_type": "code",
   "execution_count": 4,
   "metadata": {},
   "outputs": [
    {
     "name": "stdout",
     "output_type": "stream",
     "text": [
      "[0 0 0 0 0 0 0 0 0 0 0 0 0 0 0 0 0 0 0 0 0 0 0 0 0 0 0 0 0 0 0 0 0 0 0 0 0\n",
      " 0 0 0 0 0 0 0 0 0 0 0 0 0 1 1 1 1 1 1 1 1 1 1 1 1 1 1 1 1 1 1 1 1 1 1 1 1\n",
      " 1 1 1 1 1 1 1 1 1 1 1 1 1 1 1 1 1 1 1 1 1 1 1 1 1 1 2 2 2 2 2 2 2 2 2 2 2\n",
      " 2 2 2 2 2 2 2 2 2 2 2 2 2 2 2 2 2 2 2 2 2 2 2 2 2 2 2 2 2 2 2 2 2 2 2 2 2\n",
      " 2 2]\n",
      "\n",
      "\n",
      " [0 1 2]\n"
     ]
    }
   ],
   "source": [
    "#get unique labels (Species column)\n",
    "labels = analyzer.labels_\n",
    "print(labels)\n",
    "unique_labels = np.unique(labels)\n",
    "print('\\n\\n',unique_labels)\n",
    "\n"
   ]
  },
  {
   "cell_type": "code",
   "execution_count": 44,
   "metadata": {},
   "outputs": [
    {
     "name": "stdout",
     "output_type": "stream",
     "text": [
      "[[3.08644367 3.04739765]\n",
      " [2.96871823 2.94712374]\n",
      " [2.83474253 2.97826486]\n",
      " [1.11785345 1.00803314]\n",
      " [1.79497117 2.01160544]\n",
      " [1.99422641 2.00304094]\n",
      " [0.86358674 1.07379073]\n",
      " [2.96411657 2.93450686]\n",
      " [2.95370976 3.07677131]\n",
      " [3.09426283 3.08254867]\n",
      " [2.16993368 2.05407159]\n",
      " [0.95169896 1.12800039]\n",
      " [2.97265145 2.98589478]\n",
      " [0.73053554 0.97652502]\n",
      " [3.05978526 2.8166306 ]\n",
      " [1.10525583 1.02324953]\n",
      " [1.00731844 0.96729056]\n",
      " [1.8203973  2.04084551]\n",
      " [0.847954   1.14585809]\n",
      " [3.15921684 2.99785759]\n",
      " [2.79839058 3.09164966]\n",
      " [1.86613889 2.01667207]\n",
      " [1.1449294  1.04226397]\n",
      " [0.97964767 0.79576804]\n",
      " [3.0406621  2.85941439]\n",
      " [2.988727   2.90353706]\n",
      " [1.94189517 2.08243058]\n",
      " [1.96874967 2.07257713]\n",
      " [1.80210142 1.96869524]\n",
      " [2.9857501  3.02589393]\n",
      " [3.00310669 2.96782116]\n",
      " [3.07423814 3.0724684 ]\n",
      " [2.85170106 3.04321767]\n",
      " [2.04938899 1.92854599]\n",
      " [0.83592051 0.98488511]\n",
      " [2.83449981 2.97718818]\n",
      " [1.79957849 2.1745492 ]\n",
      " [2.01089263 1.96586149]\n",
      " [0.93872884 0.88465494]\n",
      " [0.87568771 0.84361192]\n",
      " [3.08496424 2.92653821]\n",
      " [3.09707298 3.04752879]\n",
      " [1.9398038  2.07656355]\n",
      " [1.04854475 1.09381765]\n",
      " [2.0127101  2.24505803]\n",
      " [3.02961421 3.04349901]\n",
      " [1.1453695  1.09255815]\n",
      " [2.88278541 2.96101079]\n",
      " [1.09660287 1.14257662]\n",
      " [3.158176   2.97256933]\n",
      " [3.04286044 2.97860006]\n",
      " [0.83361507 1.1294599 ]\n",
      " [2.94923942 2.93247404]\n",
      " [0.97257826 0.96985301]\n",
      " [1.09673414 0.99347137]\n",
      " [0.88518232 0.97622964]\n",
      " [3.09576746 3.13882572]\n",
      " [1.984278   2.11003051]\n",
      " [1.95406207 2.06700703]\n",
      " [1.00484694 1.23512963]\n",
      " [1.95763001 1.85485205]\n",
      " [2.18630325 2.00327279]\n",
      " [1.90833999 2.02457078]\n",
      " [2.03895348 1.89501826]\n",
      " [1.92136263 1.9406379 ]\n",
      " [1.09640894 0.75446115]\n",
      " [0.94216473 1.13595098]\n",
      " [2.07258145 1.96939797]\n",
      " [1.9696497  2.14159639]\n",
      " [1.91736137 1.83172449]\n",
      " [1.9316331  2.11748581]\n",
      " [1.07606878 0.87634433]\n",
      " [2.88151192 3.01246847]\n",
      " [1.93044406 2.1283082 ]\n",
      " [1.92509692 2.18353731]\n",
      " [1.02063892 0.80571041]\n",
      " [0.94206535 1.10739628]\n",
      " [2.93288431 2.90079258]\n",
      " [0.96973201 0.99837339]\n",
      " [2.11388582 2.04754355]\n",
      " [3.21809188 3.02359037]\n",
      " [2.01520219 2.00417926]\n",
      " [1.89439513 2.00122691]\n",
      " [1.97648805 1.92641718]\n",
      " [2.94969259 3.08393233]\n",
      " [0.99982311 1.00489341]\n",
      " [0.83477688 1.12131306]\n",
      " [3.22362025 2.92947247]\n",
      " [2.9476728  3.02878514]\n",
      " [0.90570922 0.98659817]\n",
      " [2.91783377 2.78759446]\n",
      " [1.06020783 0.9476002 ]\n",
      " [3.09677835 3.03649085]\n",
      " [1.01974247 1.00088975]\n",
      " [3.26271862 2.92717186]\n",
      " [0.94517253 1.06335702]\n",
      " [0.87995025 1.02875914]\n",
      " [3.09280713 2.82193358]\n",
      " [1.13912298 1.10086963]\n",
      " [3.03676165 3.0483466 ]\n",
      " [2.00923187 1.94108135]\n",
      " [2.03467329 2.05881046]\n",
      " [2.98561103 3.06775055]\n",
      " [2.03457024 2.08021705]\n",
      " [1.85322454 2.03375685]\n",
      " [2.10817414 2.23662424]\n",
      " [2.9252945  3.14788019]\n",
      " [3.01523215 2.98695837]\n",
      " [1.9197244  1.83242196]\n",
      " [1.99619326 2.01445981]\n",
      " [2.87586149 3.23769666]\n",
      " [3.02523815 2.88086765]\n",
      " [1.98723236 1.89298199]\n",
      " [0.94958774 0.9813814 ]\n",
      " [1.96875583 1.9620519 ]\n",
      " [1.99280604 2.07725057]\n",
      " [1.99992037 2.01524687]\n",
      " [3.11795356 3.00548303]\n",
      " [0.86262206 0.94272873]\n",
      " [3.21605001 3.10219187]\n",
      " [1.99447204 2.12957666]\n",
      " [0.91142717 0.87916799]\n",
      " [0.96770996 0.98701797]\n",
      " [1.87504678 1.92693726]\n",
      " [2.1007375  1.78713855]\n",
      " [3.05950585 3.09721261]\n",
      " [3.09148497 3.06757962]\n",
      " [1.02947039 0.8953988 ]\n",
      " [0.94337149 0.98054653]\n",
      " [3.01033019 2.89089057]\n",
      " [1.08746871 0.8503582 ]\n",
      " [1.01909905 1.07592509]\n",
      " [1.9101576  1.9262369 ]\n",
      " [0.95632268 0.78479024]\n",
      " [3.27934585 3.04548473]\n",
      " [0.84594486 0.93106222]\n",
      " [1.09633089 0.85502011]\n",
      " [3.05176359 2.92754765]\n",
      " [0.99168501 0.89931576]\n",
      " [1.91269584 2.17717186]\n",
      " [1.01772088 0.97437086]\n",
      " [2.02639648 1.90478706]\n",
      " [2.9730753  3.06505322]\n",
      " [1.18209013 1.04039581]\n",
      " [2.85545481 3.09023161]\n",
      " [1.94212279 2.0693159 ]\n",
      " [1.00188626 1.05477621]\n",
      " [2.13079417 1.93995683]\n",
      " [1.01228399 1.0949515 ]\n",
      " [2.11306414 2.00749585]]\n",
      "(150, 2)\n"
     ]
    },
    {
     "data": {
      "text/plain": [
       "[<matplotlib.lines.Line2D at 0x11bb4c4e0>]"
      ]
     },
     "execution_count": 44,
     "metadata": {},
     "output_type": "execute_result"
    },
    {
     "data": {
      "image/png": "[encoded data removed]",
      "text/plain": [
       "<Figure size 432x288 with 1 Axes>"
      ]
     },
     "metadata": {
      "needs_background": "light"
     },
     "output_type": "display_data"
    }
   ],
   "source": [
    "#plot with a scatter plot each iris flower sample colored by label (3 different colors)\n",
    "\n",
    "centers = [[1, 1], [2, 2], [3, 3]] \n",
    "data_2d, _ = make_blobs(n_samples=150, centers=centers, cluster_std=0.1)\n",
    "print(data_2d)\n",
    "print(np.shape(data_2d))\n",
    "plot.plot(data_2d[:,0], data_2d[:,1], 'b.')"
   ]
  },
  {
   "cell_type": "code",
   "execution_count": 16,
   "metadata": {},
   "outputs": [
    {
     "name": "stdout",
     "output_type": "stream",
     "text": [
      "[[4.98510638 3.41914894 1.47021277 0.24255319 1.         0.\n",
      "  0.        ]\n",
      " [5.95813953 2.79069767 4.30930233 1.33953488 0.         1.\n",
      "  0.        ]\n",
      " [6.37567568 2.95945946 5.36216216 2.04324324 0.         0.\n",
      "  1.        ]]\n"
     ]
    }
   ],
   "source": [
    "#Cluster\n",
    "clusters = analyzer.cluster_centers_\n",
    "print(clusters)"
   ]
  },
  {
   "cell_type": "code",
   "execution_count": 32,
   "metadata": {},
   "outputs": [
    {
     "name": "stdout",
     "output_type": "stream",
     "text": [
      "Number of Clusters: 3\n"
     ]
    }
   ],
   "source": [
    "\n",
    "clusters_length = len(analyzer.cluster_centers_)\n",
    "print('Number of Clusters: {}'.format(clusters_length))"
   ]
  },
  {
   "cell_type": "code",
   "execution_count": null,
   "metadata": {},
   "outputs": [],
   "source": []
  },
  {
   "cell_type": "code",
   "execution_count": null,
   "metadata": {},
   "outputs": [],
   "source": []
  },
  {
   "cell_type": "code",
   "execution_count": null,
   "metadata": {},
   "outputs": [],
   "source": []
  },
  {
   "cell_type": "code",
   "execution_count": null,
   "metadata": {},
   "outputs": [],
   "source": []
  }
 ],
 "metadata": {
  "kernelspec": {
   "display_name": "Python 3",
   "language": "python",
   "name": "python3"
  },
  "language_info": {
   "codemirror_mode": {
    "name": "ipython",
    "version": 3
   },
   "file_extension": ".py",
   "mimetype": "text/x-python",
   "name": "python",
   "nbconvert_exporter": "python",
   "pygments_lexer": "ipython3",
   "version": "3.7.2"
  }
 },
 "nbformat": 4,
 "nbformat_minor": 4
}
