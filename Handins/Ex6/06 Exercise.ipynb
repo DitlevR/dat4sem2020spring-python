{
 "cells": [
  {
   "cell_type": "markdown",
   "metadata": {},
   "source": [
    "# Handin Exercise 6\n",
    "\n",
    "Create a module containing a class with the following methods:\n",
    "1. __init__(self, url_list)\n",
    "2. download(url,filename) raises NotFoundException when url returns 404\n",
    "3. multi_download(url_list) uses threads to download multiple urls as text and stores filenames as a property\n",
    "4. urlist_generator(url_list) returns a generator to loop through the filenames\n",
    "5. urlist_iterator(url_list) returns an iterator to loop through the urls in the list\n",
    "6. load_files() returns generator to yield each of the downloaded files\n",
    "7. avg_vowels(text) - a rough estimate on readability returns average number of vowels in the words of the text\n",
    "8. hardest_read() returns the filename of the text with the highest vowel score (use all the cpu cores on the computer for this work.\n",
    "\n",
    "### Ex 2\n",
    "Create a notebook and import your module from above\n",
    "1. Find 10 books on https://www.gutenberg.org/browse/scores/top and download them using an object of the class you just created before\n",
    "2. Test the different methods of your class\n",
    "3. Make a bar plot with a sorted list of books on x-axis and avg vowels on y-axis"
   ]
  },
  {
   "cell_type": "code",
   "execution_count": null,
   "metadata": {},
   "outputs": [],
   "source": [
    "import pandas as pd\n",
    "from concurrent.futures import ThreadPoolExecutor\n",
    "from concurrent.futures import ProcessPoolExecutor\n",
    "import webget\n",
    "\n",
    "\n",
    "class UrlGenerator:\n",
    "    \n",
    "    def __init__(self, url_list):\n",
    "        self.url_list = url_list\n",
    "    \n",
    "    def download_url(url, filename):\n",
    "        df = pd.read_csv(url)\n",
    "        if url.status_code == '404':\n",
    "            raise NotFoundException\n",
    "    \n",
    "        with open(filename):\n",
    "            print(df)\n",
    "        \n",
    "def multi_download(url_list):\n",
    "    for n in range(0,len(url_list)):\n",
    "        new_url = str(url_list[n])\n",
    "        print (new_url)\n",
    "        try:\n",
    "            webget.download(new_url, to=f'todelete/todelete{n}.txt')\n",
    "        except:\n",
    "            print('Exception occured')\n",
    "\n",
    "def multithreading(func, args, workers=4):\n",
    "    with ThreadPoolExecutor(workers) as ex:\n",
    "        ex.map(func(args))\n",
    "\n",
    "\n",
    "def urlist_loop(url_list):\n",
    "    for url in url_list:\n",
    "        yield url\n",
    "\n",
    "def urlist_iterator(url_list):\n",
    "    return iter(url_list)\n",
    "    \n",
    "def load_files(files):\n",
    "    for file in files:\n",
    "        yield file\n",
    "\n",
    "    \n",
    "    \n",
    "\n",
    "def avg_vowels(self, text):\n",
    "        total_vowls = 0\n",
    "        for char in text:\n",
    "            if (char in 'aieouæøåAIEOUÆØÅ'):\n",
    "                total_vowls += 1\n",
    "        return len(text) / total_vowls\n",
    "    \n",
    "def multiprocessing(func, args, workers=multiprocessing.cpu_count()):\n",
    "    with ProcessPoolExecutor(workers) as ex:\n",
    "        res = ex.map(func, args)\n",
    "    return list(res)\n",
    "\n",
    "\n",
    "def hardest_read(self):\n",
    "        dict_hardness = {}\n",
    "        for file_txt in self.url_list:\n",
    "            with open(file_txt) as file_object:\n",
    "                contents = file_object.read()\n",
    "                dict_hardness[file_txt] = self.avg_vowels(contents)\n",
    "        return max(dict_hardness)\n",
    "    \n",
    "    "
   ]
  },
  {
   "cell_type": "code",
   "execution_count": null,
   "metadata": {},
   "outputs": [],
   "source": []
  },
  {
   "cell_type": "code",
   "execution_count": null,
   "metadata": {},
   "outputs": [],
   "source": []
  },
  {
   "cell_type": "code",
   "execution_count": null,
   "metadata": {},
   "outputs": [],
   "source": []
  },
  {
   "cell_type": "code",
   "execution_count": null,
   "metadata": {},
   "outputs": [],
   "source": []
  },
  {
   "cell_type": "code",
   "execution_count": null,
   "metadata": {},
   "outputs": [],
   "source": []
  },
  {
   "cell_type": "code",
   "execution_count": null,
   "metadata": {},
   "outputs": [],
   "source": []
  }
 ],
 "metadata": {
  "kernelspec": {
   "display_name": "Python 3",
   "language": "python",
   "name": "python3"
  },
  "language_info": {
   "codemirror_mode": {
    "name": "ipython",
    "version": 3
   },
   "file_extension": ".py",
   "mimetype": "text/x-python",
   "name": "python",
   "nbconvert_exporter": "python",
   "pygments_lexer": "ipython3",
   "version": "3.7.2"
  },
  "varInspector": {
   "cols": {
    "lenName": 16,
    "lenType": 16,
    "lenVar": 40
   },
   "kernels_config": {
    "python": {
     "delete_cmd_postfix": "",
     "delete_cmd_prefix": "del ",
     "library": "var_list.py",
     "varRefreshCmd": "print(var_dic_list())"
    },
    "r": {
     "delete_cmd_postfix": ") ",
     "delete_cmd_prefix": "rm(",
     "library": "var_list.r",
     "varRefreshCmd": "cat(var_dic_list()) "
    }
   },
   "types_to_exclude": [
    "module",
    "function",
    "builtin_function_or_method",
    "instance",
    "_Feature"
   ],
   "window_display": false
  }
 },
 "nbformat": 4,
 "nbformat_minor": 2
}
